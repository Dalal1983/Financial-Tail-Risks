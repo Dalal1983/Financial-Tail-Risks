{
 "cells": [
  {
   "cell_type": "markdown",
   "metadata": {},
   "source": [
    "## Introduction"
   ]
  },
  {
   "cell_type": "markdown",
   "metadata": {},
   "source": [
    "A widely stated (and disputed) result is the \"10 days\" rule — that if an investor were to exclude the best 10 days in market history then the stock market would be a horrible investment, and conversely, excluding the worst 10 days in market history would make it fantastic. Seyhun [1] visualized this result with various levels of outlier exclusion: "
   ]
  },
  {
   "cell_type": "markdown",
   "metadata": {},
   "source": [
    "<img src=\"imgs/Seyhun-viz.png\">"
   ]
  },
  {
   "cell_type": "markdown",
   "metadata": {},
   "source": [
    "Regardless of the degree to which such a result is overstated or relies on faulty assumptions, it is clear that evaluating tail end risks (and rewards) are crucial to understanding the success of financial strategies and institutions. Such \"Black Swan\" or \"Tail End\" events may be responsible for the vast majority of returns and losses on a given strategy. \n",
    "\n",
    "In this notebook, I hope to illustrate some examples of how tail end risk can affect investment strategies the way they're traditionally understood, particularly with regards to signal usage and hedge funds. In particular, I will touch upon how the hedge fund payout structure will even "
   ]
  },
  {
   "cell_type": "markdown",
   "metadata": {},
   "source": [
    "## Why is it hard to predict tail ends (using signals)? Or, \"Correlation Shmorrelation\" "
   ]
  },
  {
   "cell_type": "markdown",
   "metadata": {},
   "source": [
    "Assume we have a fund, Tail Capital that focuses on predicting tail end events. It develops a signal $X$ that has above $\\rho_{threshold}$ correlation on back-tested returns $Y$, and then trades in proportion to the strength of that signal. "
   ]
  },
  {
   "cell_type": "markdown",
   "metadata": {},
   "source": [
    "As a few simplifying assumptions, let: \n",
    "1. The signal $X$ is normally distributed with 0 mean and standard deviation 1: $X \\sim N(0, 1)$\n",
    "2. The daily return $Y$ is additive and also normally distributed with 0 mean and standard deviation 1: $Y \\sim N(0, 1)$\n",
    "3. $X$ and $Y$ have a correlation of $\\rho$, that is: $\\frac{E[(X - \\mu_{X})(Y - \\mu_{Y})]}{\\sigma_{X} \\sigma_{Y}} = E[X Y] = 1$"
   ]
  },
  {
   "cell_type": "markdown",
   "metadata": {},
   "source": [
    "**(Note that this normality assumption often used in financial models may also itself be violated by certain tail risk challenges, but we will ignore this for now.)**"
   ]
  },
  {
   "cell_type": "markdown",
   "metadata": {},
   "source": [
    "We wish to assess the conditional probability that $Y > K$ given that $X > K$, that is:\n",
    "\n",
    "$P(Y > K | X > K) = \\frac{P(X > K, Y > K)}{P(X > K)}$\n",
    "\n",
    "Another interpretation of this expression is that this is the ratio of the probability of both $X$ and $Y$ exceeding some threshold $K$ assuming correlation $\\rho$ over the probability of both $X$ and $Y$ exceeding $K$ assuming correlation $1$ (given that if the correlation is 1, then $P(X > K, Y > K) = P(X > K)$."
   ]
  },
  {
   "cell_type": "markdown",
   "metadata": {},
   "source": [
    "The evaluation of this expression (Taleb [2]) is performed as follows: "
   ]
  },
  {
   "cell_type": "markdown",
   "metadata": {},
   "source": [
    "<img src=\"imgs/taleb1.png\">"
   ]
  },
  {
   "cell_type": "markdown",
   "metadata": {},
   "source": [
    "The interpretation here is that for tail end events, i.e. when $K$ is many standard deviations away from $0$, a signal is almost meaningless in terms of telling us the odds that the output variable returns, $Y$, are also greater than $K$ unless the correlation $\\rho$ is very close to 1.\n",
    "\n",
    "In the words of Taleb, \"Correlation between X and Y carries disproportionate information  for the ordinary, and practically no information for the tails.\" As an illuminating example, assuming IQ is the signal and intelligence is the output, one would need something resembling $\\rho > 0.98$ to 'explain' genius with greater than 50% confidence."
   ]
  },
  {
   "cell_type": "markdown",
   "metadata": {},
   "source": [
    "## A Simulation-Based Example"
   ]
  },
  {
   "cell_type": "markdown",
   "metadata": {},
   "source": [
    "Assume Tail Capital uses a highly leveraged strategy to capitalize on tail end predictions (i.e. by buying out of money puts). We evaluate, at different levels of correlation, what are the actual odds that Tail Capital actually lands on its predictions. \n",
    "\n",
    "Assume a naive strategy of buying the OOM option corresponding a thresholded signal (i.e. if our threshold is 3$\\sigma$ and the signal crosses 3$\\sigma$, then buy the put at 3$\\sigma$). We evaluate the probability that our option reaches the exercise price at various level of $\\sigma$ and $\\rho$. \n",
    "\n",
    "We first sample our priors from a $N(0, 1)$ distribution, then multiply our $(X, Y)$ matrix by the Cholesky factorization of the correlation matrix to embed the correlational dependence."
   ]
  },
  {
   "cell_type": "code",
   "execution_count": 49,
   "metadata": {},
   "outputs": [],
   "source": [
    "%matplotlib inline"
   ]
  },
  {
   "cell_type": "code",
   "execution_count": 61,
   "metadata": {},
   "outputs": [
    {
     "data": {
      "text/plain": [
       "Text(0.5,1,'Probability of Reaching Threshold Price @ Std Dev Threshold')"
      ]
     },
     "execution_count": 61,
     "metadata": {},
     "output_type": "execute_result"
    },
    {
     "data": {
      "image/png": "[encoded data removed]",
      "text/plain": [
       "<matplotlib.figure.Figure at 0x1257449e8>"
      ]
     },
     "metadata": {},
     "output_type": "display_data"
    }
   ],
   "source": [
    "import numpy as np\n",
    "from scipy.linalg import eigh, cholesky\n",
    "import matplotlib.pyplot as plt\n",
    "\n",
    "np.random.seed(42)\n",
    "\n",
    "mu = 0\n",
    "sigma = 1\n",
    "num_trading_days = 100000\n",
    "std_vals = [0.5, 1, 1.5, 2, 2.5, 3, 3.5, 4, 4.5, 5]\n",
    "\n",
    "# Sampling various values of correlation, rho\n",
    "for rho in [0.4, 0.6, 0.8, 0.99]:\n",
    "    std_signal_landing_pct = []\n",
    "    \n",
    "    # Sampling various standard deviations to try to predict the output variable at\n",
    "    for n_std in std_vals:\n",
    "        # Initialize the \"prior\" of X, Y to be a normal distribution centered around 0 with standard deviation 1\n",
    "        M = np.random.normal(mu, sigma, (num_trading_days, 2))\n",
    "\n",
    "        # Use the Cholesky Factorization of R, the correlation matrix, to sample X and Y\n",
    "        R = np.array([[1, rho], [rho, 1]]);\n",
    "        L = cholesky(R, lower=True)\n",
    "        M = np.dot(M, L)\n",
    "        X = M[:, 0]\n",
    "        Y = M[:, 1]\n",
    "\n",
    "        # What percent of the time does our signal at n std out actually predict a price at n std out?\n",
    "        num_signal_fired = 0\n",
    "        num_correct_predictions = 0\n",
    "        for (x, y) in zip(X, Y):\n",
    "            if x > n_std:\n",
    "                num_signal_fired += 1\n",
    "                if y > n_std:\n",
    "                    num_correct_predictions += 1\n",
    "            elif x < -n_std:\n",
    "                num_signal_fired += 1\n",
    "                if y < -n_std:\n",
    "                    num_correct_predictions += 1\n",
    "                    \n",
    "        # Append the number of times, at correlation rho, our signal thresholded at std_val\n",
    "        # correctly predicts the price at least the same number of standard deviations out\n",
    "        if num_signal_fired == 0:\n",
    "            std_signal_landing_pct.append(0)\n",
    "        else:\n",
    "            std_signal_landing_pct.append(num_correct_predictions / num_signal_fired)\n",
    "    \n",
    "    plt.plot(std_vals, std_signal_landing_pct)\n",
    "plt.xlabel('# Std Dev Signal Threshold')\n",
    "plt.ylabel('Probability of Reaching Threshold Price')\n",
    "plt.title('Probability of Reaching Threshold Price @ Std Dev Threshold')\n",
    "    "
   ]
  },
  {
   "cell_type": "markdown",
   "metadata": {},
   "source": [
    "The interpretation here is that once we try to predict our output variable, the price, at more than 3 standard deviations out, our signal becomes practically useless. The decay of our signal corresponding to the tail end also appears to be exponential. "
   ]
  },
  {
   "cell_type": "markdown",
   "metadata": {},
   "source": [
    "## Why Hedge Funds are incentivized to practice Bad Tail end Risk Management?"
   ]
  },
  {
   "cell_type": "markdown",
   "metadata": {},
   "source": [
    "Simply put, this is because hedge funds are paid annually on both a flat and commission fee basis, and do not symmetrically suffer the downside of losing their investors money (beyond firm 'blowup' at a certain threshold). Thus, a hedge fund manager may be incentivized to make asymmetric high probability of return but huge downside bets, thus becoming an optimization problem of maximizing *time* to losses rather than maximizing *returns*. As mentioned in class, they may be incentivized to simply sell very out of money options every year and hope that by the time there's a year that the strike prices hit, they're retired by then. "
   ]
  },
  {
   "cell_type": "markdown",
   "metadata": {},
   "source": [
    "## A Simulated Example"
   ]
  },
  {
   "cell_type": "markdown",
   "metadata": {},
   "source": [
    "Let us simulate hedge fund managers as operating under the following incentive structure: \n",
    "1. They get paid a flat rate of 1 dollar a year.\n",
    "2. They get paid a 20% commission of their profit.\n",
    "3. They can invest a maximum of 10 dollars a year. \n",
    "4. The fund shuts down if it has a year where it loses 3 dollars. The fund continuously runs until it gets shut down. "
   ]
  },
  {
   "cell_type": "code",
   "execution_count": null,
   "metadata": {},
   "outputs": [],
   "source": []
  },
  {
   "cell_type": "markdown",
   "metadata": {},
   "source": [
    "## References"
   ]
  },
  {
   "cell_type": "markdown",
   "metadata": {},
   "source": [
    "1. STOCK MARKET EXTREMES AND PORTFOLIO PERFORMANCE. A study commissioned by Towneley Capital Management and conducted by Professor H. Nejat Seyhun, University of Michigan. 1993. http://www.towneley.com/wp-content/uploads/2016/01/Research.-TCM-Mkt-Timing-Study-1993.pdf\n",
    "2. Nassim Taleb's Twitter. https://twitter.com/nntaleb/status/1135116646442590208. 2019\n",
    "3. \"Why did the Crisis of 2008 Happen?\" Nassim Taleb. 2010. "
   ]
  }
 ],
 "metadata": {
  "kernelspec": {
   "display_name": "Python 3",
   "language": "python",
   "name": "python3"
  },
  "language_info": {
   "codemirror_mode": {
    "name": "ipython",
    "version": 3
   },
   "file_extension": ".py",
   "mimetype": "text/x-python",
   "name": "python",
   "nbconvert_exporter": "python",
   "pygments_lexer": "ipython3",
   "version": "3.6.4"
  }
 },
 "nbformat": 4,
 "nbformat_minor": 2
}
